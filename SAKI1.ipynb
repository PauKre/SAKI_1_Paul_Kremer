{
 "cells": [
  {
   "cell_type": "markdown",
   "source": [
    "### SAKI Exercise 1 - Paul Kremer\n",
    "Imports"
   ],
   "metadata": {
    "collapsed": false
   }
  },
  {
   "cell_type": "code",
   "execution_count": 52,
   "outputs": [],
   "source": [
    "import numpy as np\n",
    "from sklearn.model_selection import train_test_split\n",
    "from sklearn.naive_bayes import GaussianNB\n",
    "import pandas as pd\n",
    "import seaborn as sns"
   ],
   "metadata": {
    "collapsed": false,
    "pycharm": {
     "name": "#%%\n"
    }
   }
  },
  {
   "cell_type": "markdown",
   "source": [
    "Read dataset"
   ],
   "metadata": {
    "collapsed": false
   }
  },
  {
   "cell_type": "code",
   "source": [
    "data_csv = pd.read_csv(\"data.csv\", sep=\";\")\n",
    "data_csv = pd.get_dummies(data_csv[['Auftragskonto', 'Buchungstag', 'Valutadatum', 'Buchungstext', 'Verwendungszweck', 'Beguenstigter/Zahlungspflichtiger', 'Kontonummer', 'label']])\n",
    "data_csv.head()\n",
    "\n",
    "#data_csv.describe(include='all')"
   ],
   "metadata": {
    "collapsed": false,
    "pycharm": {
     "name": "#%%\n"
    }
   },
   "execution_count": 53,
   "outputs": [
    {
     "data": {
      "text/plain": "   Auftragskonto  Buchungstag_01.02.2016  Buchungstag_01.03.2016  \\\n0     89990201.0                       0                       0   \n1     89990201.0                       0                       0   \n2     89990201.0                       0                       0   \n3     89990201.0                       0                       0   \n4     89990201.0                       0                       0   \n\n   Buchungstag_01.04.2016  Buchungstag_01.06.2016  Buchungstag_01.07.2016  \\\n0                       0                       0                       0   \n1                       0                       0                       0   \n2                       0                       0                       0   \n3                       0                       0                       0   \n4                       0                       0                       0   \n\n   Buchungstag_02.02.2016  Buchungstag_02.03.2016  Buchungstag_02.06.2016  \\\n0                       0                       0                       0   \n1                       0                       0                       0   \n2                       0                       0                       0   \n3                       0                       0                       0   \n4                       0                       0                       0   \n\n   Buchungstag_03.02.2016  ...  Kontonummer_DE90793301110000410638  \\\n0                       0  ...                                   0   \n1                       0  ...                                   0   \n2                       0  ...                                   0   \n3                       0  ...                                   0   \n4                       0  ...                                   0   \n\n   Kontonummer_DE91740201000008119083  Kontonummer_DE94721500000053303830  \\\n0                                   0                                   0   \n1                                   0                                   0   \n2                                   0                                   0   \n3                                   0                                   0   \n4                                   0                                   0   \n\n   Kontonummer_DE97500400000589011600  label_finance  label_income  \\\n0                                   0              0             1   \n1                                   0              0             0   \n2                                   0              0             0   \n3                                   0              0             0   \n4                                   0              0             0   \n\n   label_leisure  label_living  label_private  label_standardOfLiving  \n0              0             0              0                       0  \n1              0             1              0                       0  \n2              0             0              1                       0  \n3              0             0              0                       1  \n4              1             0              0                       0  \n\n[5 rows x 428 columns]",
      "text/html": "<div>\n<style scoped>\n    .dataframe tbody tr th:only-of-type {\n        vertical-align: middle;\n    }\n\n    .dataframe tbody tr th {\n        vertical-align: top;\n    }\n\n    .dataframe thead th {\n        text-align: right;\n    }\n</style>\n<table border=\"1\" class=\"dataframe\">\n  <thead>\n    <tr style=\"text-align: right;\">\n      <th></th>\n      <th>Auftragskonto</th>\n      <th>Buchungstag_01.02.2016</th>\n      <th>Buchungstag_01.03.2016</th>\n      <th>Buchungstag_01.04.2016</th>\n      <th>Buchungstag_01.06.2016</th>\n      <th>Buchungstag_01.07.2016</th>\n      <th>Buchungstag_02.02.2016</th>\n      <th>Buchungstag_02.03.2016</th>\n      <th>Buchungstag_02.06.2016</th>\n      <th>Buchungstag_03.02.2016</th>\n      <th>...</th>\n      <th>Kontonummer_DE90793301110000410638</th>\n      <th>Kontonummer_DE91740201000008119083</th>\n      <th>Kontonummer_DE94721500000053303830</th>\n      <th>Kontonummer_DE97500400000589011600</th>\n      <th>label_finance</th>\n      <th>label_income</th>\n      <th>label_leisure</th>\n      <th>label_living</th>\n      <th>label_private</th>\n      <th>label_standardOfLiving</th>\n    </tr>\n  </thead>\n  <tbody>\n    <tr>\n      <th>0</th>\n      <td>89990201.0</td>\n      <td>0</td>\n      <td>0</td>\n      <td>0</td>\n      <td>0</td>\n      <td>0</td>\n      <td>0</td>\n      <td>0</td>\n      <td>0</td>\n      <td>0</td>\n      <td>...</td>\n      <td>0</td>\n      <td>0</td>\n      <td>0</td>\n      <td>0</td>\n      <td>0</td>\n      <td>1</td>\n      <td>0</td>\n      <td>0</td>\n      <td>0</td>\n      <td>0</td>\n    </tr>\n    <tr>\n      <th>1</th>\n      <td>89990201.0</td>\n      <td>0</td>\n      <td>0</td>\n      <td>0</td>\n      <td>0</td>\n      <td>0</td>\n      <td>0</td>\n      <td>0</td>\n      <td>0</td>\n      <td>0</td>\n      <td>...</td>\n      <td>0</td>\n      <td>0</td>\n      <td>0</td>\n      <td>0</td>\n      <td>0</td>\n      <td>0</td>\n      <td>0</td>\n      <td>1</td>\n      <td>0</td>\n      <td>0</td>\n    </tr>\n    <tr>\n      <th>2</th>\n      <td>89990201.0</td>\n      <td>0</td>\n      <td>0</td>\n      <td>0</td>\n      <td>0</td>\n      <td>0</td>\n      <td>0</td>\n      <td>0</td>\n      <td>0</td>\n      <td>0</td>\n      <td>...</td>\n      <td>0</td>\n      <td>0</td>\n      <td>0</td>\n      <td>0</td>\n      <td>0</td>\n      <td>0</td>\n      <td>0</td>\n      <td>0</td>\n      <td>1</td>\n      <td>0</td>\n    </tr>\n    <tr>\n      <th>3</th>\n      <td>89990201.0</td>\n      <td>0</td>\n      <td>0</td>\n      <td>0</td>\n      <td>0</td>\n      <td>0</td>\n      <td>0</td>\n      <td>0</td>\n      <td>0</td>\n      <td>0</td>\n      <td>...</td>\n      <td>0</td>\n      <td>0</td>\n      <td>0</td>\n      <td>0</td>\n      <td>0</td>\n      <td>0</td>\n      <td>0</td>\n      <td>0</td>\n      <td>0</td>\n      <td>1</td>\n    </tr>\n    <tr>\n      <th>4</th>\n      <td>89990201.0</td>\n      <td>0</td>\n      <td>0</td>\n      <td>0</td>\n      <td>0</td>\n      <td>0</td>\n      <td>0</td>\n      <td>0</td>\n      <td>0</td>\n      <td>0</td>\n      <td>...</td>\n      <td>0</td>\n      <td>0</td>\n      <td>0</td>\n      <td>0</td>\n      <td>0</td>\n      <td>0</td>\n      <td>1</td>\n      <td>0</td>\n      <td>0</td>\n      <td>0</td>\n    </tr>\n  </tbody>\n</table>\n<p>5 rows × 428 columns</p>\n</div>"
     },
     "execution_count": 53,
     "metadata": {},
     "output_type": "execute_result"
    }
   ]
  },
  {
   "cell_type": "markdown",
   "source": [
    "Analyze Data"
   ],
   "metadata": {
    "collapsed": false,
    "pycharm": {
     "name": "#%% md\n"
    }
   }
  },
  {
   "cell_type": "code",
   "execution_count": 54,
   "outputs": [],
   "source": [
    "data = data_csv.to_numpy()\n",
    "# sns.pairplot(data_csv)\n",
    "# data[:,[1]].dtype"
   ],
   "metadata": {
    "collapsed": false,
    "pycharm": {
     "name": "#%%\n"
    }
   }
  },
  {
   "cell_type": "markdown",
   "source": [
    "crop data"
   ],
   "metadata": {
    "collapsed": false,
    "pycharm": {
     "name": "#%% md\n"
    }
   }
  },
  {
   "cell_type": "code",
   "execution_count": 55,
   "outputs": [
    {
     "name": "stdout",
     "output_type": "stream",
     "text": [
      "[[0. 0. 0. ... 0. 0. 0.]\n",
      " [0. 0. 0. ... 1. 0. 0.]\n",
      " [0. 0. 0. ... 0. 1. 0.]\n",
      " ...\n",
      " [0. 0. 0. ... 0. 0. 0.]\n",
      " [0. 0. 0. ... 0. 0. 0.]\n",
      " [0. 0. 0. ... 0. 0. 0.]]\n"
     ]
    }
   ],
   "source": [
    "data = np.delete(data, [0, 10], axis=1) #delete first and 10th row\n",
    "print(data)"
   ],
   "metadata": {
    "collapsed": false,
    "pycharm": {
     "name": "#%%\n"
    }
   }
  },
  {
   "cell_type": "markdown",
   "source": [
    "classify"
   ],
   "metadata": {
    "collapsed": false,
    "pycharm": {
     "name": "#%% md\n"
    }
   }
  },
  {
   "cell_type": "code",
   "execution_count": 56,
   "outputs": [
    {
     "name": "stdout",
     "output_type": "stream",
     "text": [
      "Number of mislabeled points out of a total 105 points : 1\n"
     ]
    }
   ],
   "source": [
    "features = data[:,:-1]\n",
    "labels = data[:,-1]\n",
    "# uniques_values, labels = np.unique(labels, return_inverse=True)\n",
    "feat_train, feat_test, labels_train, labels_test = train_test_split(features, labels, test_size=0.5, random_state=0)\n",
    "gnb = GaussianNB()\n",
    "y_pred = gnb.fit(feat_train, labels_train).predict(feat_test)\n",
    "print(\"Number of mislabeled points out of a total %d points : %d\"\n",
    "      % (feat_test.shape[0], (labels_test != y_pred).sum()))"
   ],
   "metadata": {
    "collapsed": false,
    "pycharm": {
     "name": "#%%\n"
    }
   }
  },
  {
   "cell_type": "code",
   "execution_count": 57,
   "outputs": [
    {
     "data": {
      "text/plain": "array([[  0., 162.],\n       [  1.,  47.]])"
     },
     "execution_count": 57,
     "metadata": {},
     "output_type": "execute_result"
    }
   ],
   "source": [
    "unique, counts = np.unique(labels, return_counts=True)\n",
    "np.asarray((unique, counts)).T\n",
    "\n"
   ],
   "metadata": {
    "collapsed": false,
    "pycharm": {
     "name": "#%%\n"
    }
   }
  }
 ],
 "metadata": {
  "kernelspec": {
   "display_name": "Python 3",
   "language": "python",
   "name": "python3"
  },
  "language_info": {
   "codemirror_mode": {
    "name": "ipython",
    "version": 2
   },
   "file_extension": ".py",
   "mimetype": "text/x-python",
   "name": "python",
   "nbconvert_exporter": "python",
   "pygments_lexer": "ipython2",
   "version": "2.7.6"
  }
 },
 "nbformat": 4,
 "nbformat_minor": 0
}