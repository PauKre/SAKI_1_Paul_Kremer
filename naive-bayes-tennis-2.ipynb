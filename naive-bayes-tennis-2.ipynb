{
 "cells": [
  {
   "cell_type": "code",
   "execution_count": 5,
   "metadata": {},
   "outputs": [
    {
     "data": {
      "text/plain": "<IPython.core.display.HTML object>",
      "text/html": "\n        <script>\n            function code_toggle_14946061292018964752() {\n                $('div.cell.code_cell.rendered.selected').find('div.input').toggle();\n            }\n\n            \n        </script>\n\n        <a href=\"javascript:code_toggle_14946061292018964752()\">Toggle show/hide</a>\n    "
     },
     "execution_count": 5,
     "metadata": {},
     "output_type": "execute_result"
    }
   ],
   "source": [
    "from IPython.display import HTML\n",
    "import random\n",
    "\n",
    "def hide_toggle(for_next=False):\n",
    "    this_cell = \"\"\"$('div.cell.code_cell.rendered.selected')\"\"\"\n",
    "    next_cell = this_cell + '.next()'\n",
    "\n",
    "    toggle_text = 'Toggle show/hide'  # text shown on toggle link\n",
    "    target_cell = this_cell  # target cell to control with toggle\n",
    "    js_hide_current = ''  # bit of JS to permanently hide code in current cell (only when toggling next cell)\n",
    "\n",
    "    if for_next:\n",
    "        target_cell = next_cell\n",
    "        toggle_text += ' next cell'\n",
    "        js_hide_current = this_cell + '.find(\"div.input\").hide();'\n",
    "\n",
    "    js_f_name = 'code_toggle_{}'.format(str(random.randint(1,2**64)))\n",
    "\n",
    "    html = \"\"\"\n",
    "        <script>\n",
    "            function {f_name}() {{\n",
    "                {cell_selector}.find('div.input').toggle();\n",
    "            }}\n",
    "\n",
    "            {js_hide_current}\n",
    "        </script>\n",
    "\n",
    "        <a href=\"javascript:{f_name}()\">{toggle_text}</a>\n",
    "    \"\"\".format(\n",
    "        f_name=js_f_name,\n",
    "        cell_selector=target_cell,\n",
    "        js_hide_current=js_hide_current, \n",
    "        toggle_text=toggle_text\n",
    "    )\n",
    "\n",
    "    return HTML(html)\n",
    "hide_toggle()"
   ]
  },
  {
   "cell_type": "markdown",
   "metadata": {},
   "source": [
    "## Let's dive deeper into the tennis example:\n",
    "\n",
    "\n"
   ]
  },
  {
   "cell_type": "markdown",
   "metadata": {},
   "source": [
    "**import the required packages**"
   ]
  },
  {
   "cell_type": "code",
   "execution_count": 6,
   "metadata": {},
   "outputs": [
    {
     "data": {
      "text/plain": "<IPython.core.display.HTML object>",
      "text/html": "\n        <script>\n            function code_toggle_5209295727681191998() {\n                $('div.cell.code_cell.rendered.selected').find('div.input').toggle();\n            }\n\n            \n        </script>\n\n        <a href=\"javascript:code_toggle_5209295727681191998()\">Toggle show/hide</a>\n    "
     },
     "execution_count": 6,
     "metadata": {},
     "output_type": "execute_result"
    }
   ],
   "source": [
    "import numpy as np\n",
    "import pandas as pd\n",
    "import matplotlib.pyplot as plt\n",
    "%matplotlib inline\n",
    "\n",
    "from sklearn.naive_bayes import GaussianNB\n",
    "import numpy as np\n",
    "\n",
    "hide_toggle()"
   ]
  },
  {
   "cell_type": "markdown",
   "metadata": {},
   "source": [
    "**read the csv file**"
   ]
  },
  {
   "cell_type": "code",
   "execution_count": 7,
   "metadata": {},
   "outputs": [
    {
     "data": {
      "text/plain": "<IPython.core.display.HTML object>",
      "text/html": "\n        <script>\n            function code_toggle_5120686810124746869() {\n                $('div.cell.code_cell.rendered.selected').find('div.input').toggle();\n            }\n\n            \n        </script>\n\n        <a href=\"javascript:code_toggle_5120686810124746869()\">Toggle show/hide</a>\n    "
     },
     "execution_count": 7,
     "metadata": {},
     "output_type": "execute_result"
    }
   ],
   "source": [
    "tennis = pd.read_csv('tennis.csv')\n",
    "#tennis.info()\n",
    "tennis.columns\n",
    "tennis.head(14)\n",
    "hide_toggle()"
   ]
  },
  {
   "cell_type": "markdown",
   "metadata": {},
   "source": [
    "**Show me the table!**"
   ]
  },
  {
   "cell_type": "code",
   "execution_count": 8,
   "metadata": {},
   "outputs": [
    {
     "name": "stdout",
     "output_type": "stream",
     "text": [
      "     outlook  temp humidity  windy play\n",
      "0      sunny   hot     high  False   no\n",
      "1      sunny   hot     high   True   no\n",
      "2   overcast   hot     high  False  yes\n",
      "3      rainy  mild     high  False  yes\n",
      "4      rainy  cool   normal  False  yes\n",
      "5      rainy  cool   normal   True   no\n",
      "6   overcast  cool   normal   True  yes\n",
      "7      sunny  mild     high  False   no\n",
      "8      sunny  cool   normal  False  yes\n",
      "9      rainy  mild   normal  False  yes\n",
      "10     sunny  mild   normal   True  yes\n",
      "11  overcast  mild     high   True  yes\n",
      "12  overcast   hot   normal  False  yes\n",
      "13     rainy  mild     high   True   no\n"
     ]
    },
    {
     "data": {
      "text/plain": "<IPython.core.display.HTML object>",
      "text/html": "\n        <script>\n            function code_toggle_9639296619378777775() {\n                $('div.cell.code_cell.rendered.selected').find('div.input').toggle();\n            }\n\n            \n        </script>\n\n        <a href=\"javascript:code_toggle_9639296619378777775()\">Toggle show/hide</a>\n    "
     },
     "execution_count": 8,
     "metadata": {},
     "output_type": "execute_result"
    }
   ],
   "source": [
    "print(tennis)\n",
    "hide_toggle()"
   ]
  },
  {
   "cell_type": "markdown",
   "metadata": {},
   "source": [
    "**Lets take a look at how each category looks**"
   ]
  },
  {
   "cell_type": "code",
   "execution_count": 9,
   "metadata": {},
   "outputs": [
    {
     "name": "stdout",
     "output_type": "stream",
     "text": [
      "outlook   play\n",
      "overcast  yes     4\n",
      "rainy     no      2\n",
      "          yes     3\n",
      "sunny     no      3\n",
      "          yes     2\n",
      "dtype: int64\n",
      "windy\n",
      "False    8\n",
      "True     6\n",
      "dtype: int64\n",
      "outlook\n",
      "overcast    4\n",
      "rainy       5\n",
      "sunny       5\n",
      "dtype: int64\n",
      "temp  play\n",
      "cool  no      1\n",
      "      yes     3\n",
      "hot   no      2\n",
      "      yes     2\n",
      "mild  no      2\n",
      "      yes     4\n",
      "dtype: int64\n",
      "temp\n",
      "cool    4\n",
      "hot     4\n",
      "mild    6\n",
      "dtype: int64\n",
      "humidity  play\n",
      "high      no      4\n",
      "          yes     3\n",
      "normal    no      1\n",
      "          yes     6\n",
      "dtype: int64\n",
      "outlook\n",
      "overcast    4\n",
      "rainy       5\n",
      "sunny       5\n",
      "dtype: int64\n",
      "windy  play\n",
      "False  no      2\n",
      "       yes     6\n",
      "True   no      3\n",
      "       yes     3\n",
      "dtype: int64\n",
      "windy\n",
      "False    8\n",
      "True     6\n",
      "dtype: int64\n"
     ]
    },
    {
     "data": {
      "text/plain": "<IPython.core.display.HTML object>",
      "text/html": "\n        <script>\n            function code_toggle_16776553999450372569() {\n                $('div.cell.code_cell.rendered.selected').find('div.input').toggle();\n            }\n\n            \n        </script>\n\n        <a href=\"javascript:code_toggle_16776553999450372569()\">Toggle show/hide</a>\n    "
     },
     "execution_count": 9,
     "metadata": {},
     "output_type": "execute_result"
    }
   ],
   "source": [
    "outlook_count = tennis.groupby(['outlook', 'play']).size()\n",
    "outlook_total = tennis.groupby(['outlook']).size()\n",
    "temp_count = tennis.groupby(['temp', 'play']).size()\n",
    "temp_total = tennis.groupby(['temp']).size()\n",
    "humidity_count = tennis.groupby(['humidity', 'play']).size()\n",
    "humidity_total = tennis.groupby(['outlook']).size()\n",
    "windy_count = tennis.groupby(['windy', 'play']).size()\n",
    "windy_total = tennis.groupby(['windy']).size()\n",
    "print(outlook_count)\n",
    "print(windy_total)\n",
    "print(outlook_total)\n",
    "print(temp_count)\n",
    "print(temp_total)\n",
    "print(humidity_count)\n",
    "print(humidity_total)\n",
    "print(windy_count)\n",
    "print(windy_total)\n",
    "hide_toggle()"
   ]
  },
  {
   "cell_type": "markdown",
   "metadata": {},
   "source": [
    "**Defining X_train and y_train**"
   ]
  },
  {
   "cell_type": "code",
   "execution_count": 10,
   "metadata": {},
   "outputs": [
    {
     "name": "stdout",
     "output_type": "stream",
     "text": [
      "<class 'pandas.core.frame.DataFrame'>\n",
      "RangeIndex: 14 entries, 0 to 13\n",
      "Data columns (total 9 columns):\n",
      " #   Column            Non-Null Count  Dtype\n",
      "---  ------            --------------  -----\n",
      " 0   windy             14 non-null     bool \n",
      " 1   outlook_overcast  14 non-null     uint8\n",
      " 2   outlook_rainy     14 non-null     uint8\n",
      " 3   outlook_sunny     14 non-null     uint8\n",
      " 4   temp_cool         14 non-null     uint8\n",
      " 5   temp_hot          14 non-null     uint8\n",
      " 6   temp_mild         14 non-null     uint8\n",
      " 7   humidity_high     14 non-null     uint8\n",
      " 8   humidity_normal   14 non-null     uint8\n",
      "dtypes: bool(1), uint8(8)\n",
      "memory usage: 254.0 bytes\n",
      "None\n",
      "   windy  outlook_overcast  outlook_rainy  outlook_sunny  temp_cool  temp_hot  \\\n",
      "0  False                 0              0              1          0         1   \n",
      "1   True                 0              0              1          0         1   \n",
      "2  False                 1              0              0          0         1   \n",
      "3  False                 0              1              0          0         0   \n",
      "4  False                 0              1              0          1         0   \n",
      "\n",
      "   temp_mild  humidity_high  humidity_normal  \n",
      "0          0              1                0  \n",
      "1          0              1                0  \n",
      "2          0              1                0  \n",
      "3          1              1                0  \n",
      "4          0              0                1  \n"
     ]
    },
    {
     "data": {
      "text/plain": "<IPython.core.display.HTML object>",
      "text/html": "\n        <script>\n            function code_toggle_12440961452899069753() {\n                $('div.cell.code_cell.rendered.selected').find('div.input').toggle();\n            }\n\n            \n        </script>\n\n        <a href=\"javascript:code_toggle_12440961452899069753()\">Toggle show/hide</a>\n    "
     },
     "execution_count": 10,
     "metadata": {},
     "output_type": "execute_result"
    }
   ],
   "source": [
    "# get_dummies: Converts categorical variable into dummy/indicator variables.\n",
    "X_train = pd.get_dummies(tennis[['outlook', 'temp', 'humidity', 'windy']])\n",
    "y_train = pd.DataFrame(tennis['play'])\n",
    "\n",
    "print(X_train.info())\n",
    "print(X_train.head())\n",
    "hide_toggle()"
   ]
  },
  {
   "cell_type": "markdown",
   "metadata": {},
   "source": [
    "**1 - Create a Gaussian Classifier**\n",
    "***\n",
    "**2- Train the model using the training sets**\n",
    "***\n",
    "**3- Predict Output!**"
   ]
  },
  {
   "cell_type": "code",
   "execution_count": 11,
   "metadata": {},
   "outputs": [
    {
     "data": {
      "text/plain": "<IPython.core.display.HTML object>",
      "text/html": "\n        <script>\n            function code_toggle_13741958583178514193() {\n                $('div.cell.code_cell.rendered.selected').find('div.input').toggle();\n            }\n\n            \n        </script>\n\n        <a href=\"javascript:code_toggle_13741958583178514193()\">Toggle show/hide</a>\n    "
     },
     "execution_count": 11,
     "metadata": {},
     "output_type": "execute_result"
    }
   ],
   "source": [
    "# Create a Gaussian Classifier\n",
    "model = GaussianNB()\n",
    "\n",
    "# Train the model using the training sets \n",
    "model.fit(X_train, y_train.values.ravel())\n",
    "\n",
    "#Predict Output \n",
    "predicted= model.predict([[False,1,0,0,0,1,0,1,0]])\n",
    "# print (predicted)\n",
    "\n",
    "hide_toggle()"
   ]
  },
  {
   "cell_type": "code",
   "execution_count": 11,
   "metadata": {},
   "outputs": [],
   "source": []
  }
 ],
 "metadata": {
  "kernelspec": {
   "display_name": "Python 3",
   "language": "python",
   "name": "python3"
  },
  "language_info": {
   "codemirror_mode": {
    "name": "ipython",
    "version": 3
   },
   "file_extension": ".py",
   "mimetype": "text/x-python",
   "name": "python",
   "nbconvert_exporter": "python",
   "pygments_lexer": "ipython3",
   "version": "3.8.5"
  }
 },
 "nbformat": 4,
 "nbformat_minor": 4
}